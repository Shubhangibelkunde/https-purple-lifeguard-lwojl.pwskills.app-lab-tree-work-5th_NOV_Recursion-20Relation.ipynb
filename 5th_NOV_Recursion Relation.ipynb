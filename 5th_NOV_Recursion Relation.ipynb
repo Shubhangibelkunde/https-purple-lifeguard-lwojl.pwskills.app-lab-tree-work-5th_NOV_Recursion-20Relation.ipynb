{
 "cells": [
  {
   "cell_type": "code",
   "execution_count": null,
   "id": "99cdf197-f022-4fc8-85e5-ca394a51d7fc",
   "metadata": {},
   "outputs": [],
   "source": [
    "problem 1 : Find the value of T(2) for the recurrence relation T(n) = 3T(n-1) + 12n, given that T(0)=5."
   ]
  },
  {
   "cell_type": "code",
   "execution_count": null,
   "id": "99d7a3c9-0c78-422d-a865-4b5206a46239",
   "metadata": {},
   "outputs": [],
   "source": [
    "Given T(n) = 3T(n-1) + 12\n",
    "      T(0) = 5\n",
    "we can use this recurrence relation to find t(2):\n",
    "    first find t(1)\n",
    "    T(n) = 3T(n-1) + 12\n",
    "       put n = 1\n",
    "    T(1) = 3T(1-1) + 12\n",
    "         = 3T(0)+12\n",
    "         = 3*5 + 12\n",
    "    T(1) = 15 + 12\n",
    "    T(1) = 27\n",
    "    \n",
    "we can find t(2) :\n",
    "    n = 2\n",
    "    T(2) = 3T(2-1) + 12\n",
    "         = 3T(1) + 12\n",
    "         = 3*27 +12\n",
    "    T(2) =81 +12\n",
    "    T(2) = 105"
   ]
  },
  {
   "cell_type": "code",
   "execution_count": null,
   "id": "c70314ae-a8e4-40f1-b78d-cc104838c80d",
   "metadata": {},
   "outputs": [],
   "source": [
    "2. Given a recurrence relation, solve it using the substitution method:\n",
    "\n",
    "a. T(n) = T(n-1) + c\n",
    "\n",
    "b. T(n) = 2T(n/2) + n\n",
    "\n",
    "c. T(n) = 2T(n/2) + c\n",
    "\n",
    "d. T(n) = T(n/2) + c"
   ]
  },
  {
   "cell_type": "code",
   "execution_count": null,
   "id": "b982231d-2dff-4c23-ad3c-9d16b03879a3",
   "metadata": {},
   "outputs": [],
   "source": [
    "a. T(n) = T(n-1) + C\n",
    "    substitute = T(n) = An + B\n",
    "    T(n) = T(n-1) + C\n",
    "    An + B = A(n−1) + B + C\n",
    "    An + B = An − A + B + C\n",
    "        A = C\n",
    "    substitute the value of A back \n",
    "    T(n) = C.n + B\n",
    "    Use the initial condition T(0) to solve the B :\n",
    "        T(0) = C.0 + B\n",
    "        T(0) = B\n",
    "    The equation became like :\n",
    "        T(n) = C.n + T(0)"
   ]
  },
  {
   "cell_type": "code",
   "execution_count": null,
   "id": "bd4bbbb7-c84e-4acc-8dfd-5693ad1cc260",
   "metadata": {},
   "outputs": [],
   "source": [
    "b. T(n) = 2T(n/2) + n\n",
    "##Assume T(n)=a⋅n⋅log(n)+b⋅n\n",
    " T(n) = 2T(n/2) + n\n",
    "a*nlog(n) + b * n=2(a* n/2 * log(n/2) + b *n/2) + n \n",
    "##Simplify the equation\n",
    "a*nlog(n) + b * n = a * nlog(n)−a * nlog(2) + b * n + n\n",
    "##cancel common term\n",
    "b * n = −a * nlog(2) + n\n",
    "a = − 1/log(2) \n",
    "b=1\n",
    "## substitute the values back\n",
    "T(n) = − n/log(2) * n *log(n) + n\n",
    "\n",
    "The equation become like :\n",
    "T(n) = −nlog(n) + n\n"
   ]
  },
  {
   "cell_type": "code",
   "execution_count": null,
   "id": "5daaee3a-96f6-4edf-955e-e4b98d4eeaae",
   "metadata": {},
   "outputs": [],
   "source": [
    "c. T(n) = 2T(n/2) + C\n",
    "##Substitute T(n) = a * nlog(n) + b * n\n",
    "    T(n) = 2T(n/2) + c\n",
    "    a * nlog(n) + b * n = 2⋅(a * (n/2) * log(n/2) + b * n/2) + C\n",
    "    a * nlog(n) + b * n = a * nlog(n) − a * nlog(2) + b * n + C\n",
    "    c = −a * nlog(2) + b * n\n",
    "    a = 0\n",
    "    b = c/nlog(2)\n",
    "    \n",
    "## Substitute the values back\n",
    "    T(n)= C / log(2)\n",
    "    \n",
    "The equation became like :\n",
    "    \n",
    "    T(n) = C / log(2)"
   ]
  },
  {
   "cell_type": "code",
   "execution_count": null,
   "id": "d5c57882-a5d5-4e56-8d2c-3e325068f3e6",
   "metadata": {},
   "outputs": [],
   "source": [
    "d. T(n) = T(n/2) + C\n",
    "## Substitute T(n)=a * log(n) + b\n",
    "   T(n) = T(n/2) + C\n",
    "    a * log(n) + b = a * log(n/2) + b + C\n",
    "    a * log(n) + b = a * (log(n) - log(2)) + b + C\n",
    "    a * log(n) + b = a * log(n) - a + b + C\n",
    "    a = -1\n",
    "    \n",
    "## Substitue the values back \n",
    "   T(n) = - log(1) + b \n",
    "    b = C \n",
    "THe equation became like this :\n",
    "    T(n) = - log(n) + C\n",
    "    "
   ]
  },
  {
   "cell_type": "code",
   "execution_count": null,
   "id": "a9d85bdb-ee59-43ce-91f5-ba4f8441b379",
   "metadata": {},
   "outputs": [],
   "source": [
    "3. Given a recurrence relation, solve it using the recursive tree approach:\n",
    "\n",
    "a. T(n) = 2T(n-1) +1\n",
    "\n",
    "b. T(n) = 2T(n/2) + n"
   ]
  },
  {
   "cell_type": "code",
   "execution_count": null,
   "id": "51ac5de6-f2a3-4e40-9916-a7eab0d19b54",
   "metadata": {},
   "outputs": [],
   "source": [
    "a. T(n) = 2T(n-1) + 1\n",
    "Expanding further \n",
    "T(n-1) = 2T(n-2) + 1\n",
    "T(n-2) = 2T(n-3) + 1\n",
    "T(n-3) = 2T(n-4) + 1 and so on.........\n",
    "\n",
    "Level 0: 1 node (T(n))\n",
    "Level 1: 2 nodes (T(n-1))\n",
    "Level 2: 4 nodes (T(n-2))\n",
    ".....\n",
    " at each level we have 2*k nodes \n",
    "    Time Complexity = O(2*n)\n"
   ]
  },
  {
   "cell_type": "code",
   "execution_count": null,
   "id": "790e914f-cd4d-4dce-97eb-166f000da0b4",
   "metadata": {},
   "outputs": [],
   "source": [
    "b. T(n) = 2T(n/2) + n\n",
    "Expanding Further\n",
    "T(n/2) = 2T(n/4) + n\n",
    "T(n/4) = 2T(n/8) + n and so on .......\n",
    "\n",
    "Time Complexity = O(n logn)"
   ]
  }
 ],
 "metadata": {
  "kernelspec": {
   "display_name": "Python 3 (ipykernel)",
   "language": "python",
   "name": "python3"
  },
  "language_info": {
   "codemirror_mode": {
    "name": "ipython",
    "version": 3
   },
   "file_extension": ".py",
   "mimetype": "text/x-python",
   "name": "python",
   "nbconvert_exporter": "python",
   "pygments_lexer": "ipython3",
   "version": "3.10.8"
  }
 },
 "nbformat": 4,
 "nbformat_minor": 5
}
